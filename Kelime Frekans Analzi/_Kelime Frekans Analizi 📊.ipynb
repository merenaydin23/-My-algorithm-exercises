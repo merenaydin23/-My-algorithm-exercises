{
 "cells": [
  {
   "cell_type": "markdown",
   "id": "17eb6334-b15c-40f6-8095-7ca386ee0231",
   "metadata": {},
   "source": [
    "##  Kelime Frekans Analizi 📊"
   ]
  },
  {
   "cell_type": "markdown",
   "id": "5af08b91-b4e2-4509-8ac4-e1cde4edf7d9",
   "metadata": {},
   "source": [
    "Bu Python programı, kullanıcının girdiği metindeki her kelimenin frekansını hesaplar, noktalama işaretlerini dikkate almaz ve büyük/küçük harf farkını göz ardı eder. "
   ]
  },
  {
   "cell_type": "code",
   "execution_count": 110,
   "id": "8a5e73f1-d958-4afa-8c1e-18fc6967e213",
   "metadata": {},
   "outputs": [],
   "source": [
    "import string"
   ]
  },
  {
   "cell_type": "code",
   "execution_count": 111,
   "id": "dee8a904-0b01-47db-aaca-02530a746313",
   "metadata": {},
   "outputs": [],
   "source": [
    "# Bu metod metindeki noktalama işaretlerini kaldırır \n",
    "def noktalamaKaldır(metin):\n",
    "    cleanText = \"\"\n",
    "    for karakter in metin : \n",
    "        if karakter not in string.punctuation:\n",
    "            cleanText = cleanText + karakter\n",
    "    return cleanText"
   ]
  },
  {
   "cell_type": "code",
   "execution_count": 112,
   "id": "0ec4eb8f-6081-423b-8ca7-fd114cab8ab6",
   "metadata": {},
   "outputs": [
    {
     "name": "stdin",
     "output_type": "stream",
     "text": [
      "Lütfen metin giriniz Merhaba dünya, merhaba Python! Python ile programlama yapmak çok eğlenceli.\n"
     ]
    }
   ],
   "source": [
    "Text  = input(\"Lütfen metin giriniz\")"
   ]
  },
  {
   "cell_type": "code",
   "execution_count": 113,
   "id": "cc3b2327-75ff-4243-a8d1-c2b8894115a4",
   "metadata": {},
   "outputs": [],
   "source": [
    "# Noktalama işaretlerini kaldırıyoruz\n",
    "Text = noktalamaKaldır(Text)\n",
    "# Metni küçük harfe çeviriyoruz\n",
    "Text = Text.lower()"
   ]
  },
  {
   "cell_type": "code",
   "execution_count": 114,
   "id": "a911ff7a-7902-4b3e-9d2c-2655e877a6a3",
   "metadata": {},
   "outputs": [],
   "source": [
    "# Boş bir sözlük oluşturuluyor\n",
    "kelimeSözlüğü = {}\n",
    "\n",
    "# Metin kelimelere ayrılıyor\n",
    "kelimeListesi = Text.split()\n",
    "\n",
    "# Her kelimeyi kontrol edip, sözlükte sayısını artırıyoruz veya ekliyoruz\n",
    "for a in kelimeListesi:\n",
    "    if a in kelimeSözlüğü:\n",
    "        kelimeSözlüğü[a] += 1  # Kelime varsa sayısını artır\n",
    "    else:\n",
    "        kelimeSözlüğü[a] = 1  # Kelime yoksa ekle ve sayısını 1 yap"
   ]
  },
  {
   "cell_type": "code",
   "execution_count": 115,
   "id": "5c816db7-0559-4c6d-8420-bc1a09fed558",
   "metadata": {
    "scrolled": true
   },
   "outputs": [],
   "source": [
    "# Kelimeleri frekanslarına göre sıralıyoruz \n",
    "kelimeSözlüğü = dict(sorted(kelimeSözlüğü.items(), key=lambda item: item[1], reverse=True))"
   ]
  },
  {
   "cell_type": "code",
   "execution_count": 116,
   "id": "4d615fc1-e3ad-49dc-81eb-b7424336f8c2",
   "metadata": {},
   "outputs": [
    {
     "name": "stdout",
     "output_type": "stream",
     "text": [
      "\n",
      "Metinde geçen kelimelerin frekansları:\n",
      "\n",
      "'merhaba' kelimesinin frekansı : 2\n",
      "\n",
      "'python' kelimesinin frekansı : 2\n",
      "\n",
      "'dünya' kelimesinin frekansı : 1\n",
      "\n",
      "'ile' kelimesinin frekansı : 1\n",
      "\n",
      "'programlama' kelimesinin frekansı : 1\n",
      "\n",
      "'yapmak' kelimesinin frekansı : 1\n",
      "\n",
      "'çok' kelimesinin frekansı : 1\n",
      "\n",
      "'eğlenceli' kelimesinin frekansı : 1\n",
      "\n"
     ]
    }
   ],
   "source": [
    "# Metinde geçen kelimelerin frekanslarını yazdırıyoruz\n",
    "print(\"\\nMetinde geçen kelimelerin frekansları:\\n\")\n",
    "for kelime in kelimeSözlüğü:\n",
    "    print(f\"'{kelime}' kelimesinin frekansı : {kelimeSözlüğü[kelime]}\"+\"\\n\")"
   ]
  }
 ],
 "metadata": {
  "kernelspec": {
   "display_name": "Python 3 (ipykernel)",
   "language": "python",
   "name": "python3"
  },
  "language_info": {
   "codemirror_mode": {
    "name": "ipython",
    "version": 3
   },
   "file_extension": ".py",
   "mimetype": "text/x-python",
   "name": "python",
   "nbconvert_exporter": "python",
   "pygments_lexer": "ipython3",
   "version": "3.12.7"
  }
 },
 "nbformat": 4,
 "nbformat_minor": 5
}

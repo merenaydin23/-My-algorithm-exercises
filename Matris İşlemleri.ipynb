{
 "cells": [
  {
   "cell_type": "code",
   "execution_count": 222,
   "id": "0e0ba7b8-e0eb-49ad-86b0-9206ad54e2b1",
   "metadata": {},
   "outputs": [],
   "source": [
    "import numpy as np"
   ]
  },
  {
   "cell_type": "code",
   "execution_count": 223,
   "id": "84d50ba2-41d2-4392-9879-a3cbe890cad2",
   "metadata": {},
   "outputs": [
    {
     "name": "stdin",
     "output_type": "stream",
     "text": [
      "İşlem için kullanılacak 1. Matrixin satır sayısını giriniz:  6\n",
      "İşlem için kullanılacak 1. Matrixin sütun sayısını giriniz:  6\n"
     ]
    }
   ],
   "source": [
    "# 1. Matrixin satır ve sütun sayısı alınır\n",
    "while True:\n",
    "    satir1 = int(input(\"İşlem için kullanılacak 1. Matrixin satır sayısını giriniz: \"))  \n",
    "    if satir1 > 0:  \n",
    "        break\n",
    "    else:\n",
    "        print(\"Lütfen 0'dan büyük bir sayı giriniz!\")  \n",
    "while True:\n",
    "    sütun1 = int(input(\"İşlem için kullanılacak 1. Matrixin sütun sayısını giriniz: \"))  \n",
    "    if sütun1 > 0:  \n",
    "        break\n",
    "    else:\n",
    "        print(\"Lütfen 0'dan büyük bir sayı giriniz!\") "
   ]
  },
  {
   "cell_type": "code",
   "execution_count": 224,
   "id": "dff31bd6-4108-4792-a508-188cb2dfcd00",
   "metadata": {},
   "outputs": [],
   "source": [
    "# 1. Matrix oluşturuluyor\n",
    "matrix1 = []\n",
    "for i in range(satir1):\n",
    "    dizi1 = []\n",
    "    for j in range(sütun1):\n",
    "        dizi1.append(np.random.randint(10, 99))  \n",
    "    matrix1.append(dizi1)  \n",
    "matrix1 = np.array(matrix1)"
   ]
  },
  {
   "cell_type": "code",
   "execution_count": 225,
   "id": "f47f07f7-3863-4b4c-99db-6c667921c763",
   "metadata": {},
   "outputs": [
    {
     "name": "stdin",
     "output_type": "stream",
     "text": [
      "İşlem için kullanılacak 2. Matrixin satır sayısını giriniz:  6\n",
      "İşlem için kullanılacak 2. Matrixin sütun sayısını giriniz:  6\n"
     ]
    }
   ],
   "source": [
    "# 2. Matrixin satır ve sütun sayısı alınır\n",
    "while True:\n",
    "    satir2 = int(input(\"İşlem için kullanılacak 2. Matrixin satır sayısını giriniz: \"))  \n",
    "    if satir2 > 0:  \n",
    "        break\n",
    "    else:\n",
    "        print(\"Lütfen 0'dan büyük bir sayı giriniz!\")  \n",
    "\n",
    "while True:\n",
    "    sütun2 = int(input(\"İşlem için kullanılacak 2. Matrixin sütun sayısını giriniz: \"))  \n",
    "    if sütun2 > 0:  \n",
    "        break\n",
    "    else:\n",
    "        print(\"Lütfen 0'dan büyük bir sayı giriniz!\") "
   ]
  },
  {
   "cell_type": "code",
   "execution_count": 226,
   "id": "9b8d6d5e-d82f-4660-81d2-ec8779f16050",
   "metadata": {},
   "outputs": [],
   "source": [
    "# 2. Matrix oluşturuluyor\n",
    "matrix2 = []\n",
    "for i in range(satir2):\n",
    "    dizi2 = []  \n",
    "    for j in range(sütun2):\n",
    "        dizi2.append(np.random.randint(10, 99))  \n",
    "    matrix2.append(dizi2)  \n",
    "matrix2 = np.array(matrix2)"
   ]
  },
  {
   "cell_type": "code",
   "execution_count": 227,
   "id": "b2f9bd9d-1895-4ca5-b290-157f42df9e23",
   "metadata": {},
   "outputs": [
    {
     "name": "stdout",
     "output_type": "stream",
     "text": [
      "Random Oluşan 1. Matrix : \n",
      "[[35 77 11 80 94 28]\n",
      " [41 40 82 58 23 31]\n",
      " [53 33 88 64 69 91]\n",
      " [16 64 38 57 83 61]\n",
      " [62 35 96 30 60 58]\n",
      " [85 80 11 77 27 85]]\n",
      "Random Oluşan 2. Matrix : \n",
      "[[52 22 89 90 37 46]\n",
      " [76 83 58 33 52 19]\n",
      " [90 31 38 64 50 11]\n",
      " [45 94 89 83 26 30]\n",
      " [56 33 72 91 68 61]\n",
      " [96 64 73 88 41 69]]\n"
     ]
    }
   ],
   "source": [
    "# Oluşan matrixleri yazdırma\n",
    "print(\"Random Oluşan 1. Matrix : \")\n",
    "print(matrix1)\n",
    "print(\"Random Oluşan 2. Matrix : \")\n",
    "print(matrix2)"
   ]
  },
  {
   "cell_type": "code",
   "execution_count": 228,
   "id": "e4e03fb1-59cf-40c8-a03d-02b7f48d06f3",
   "metadata": {},
   "outputs": [],
   "source": [
    "# Matrix toplama fonksiyonu\n",
    "def matrixToplam(matrix1, matrix2): \n",
    "    if len(matrix1) != len(matrix2) or len(matrix1[0]) != len(matrix2[0]):\n",
    "        print(\"Matrix boyutları uyuşmadığından, matrixler arasında toplama işlemi yapılamaz\")\n",
    "    else:\n",
    "        toplamMatriks = matrix1 + matrix2\n",
    "        print(\"Matriksler Toplamı : \")\n",
    "        print(toplamMatriks)"
   ]
  },
  {
   "cell_type": "code",
   "execution_count": 229,
   "id": "d9c562f0-120b-4d33-ad4d-33d63bfbac88",
   "metadata": {},
   "outputs": [],
   "source": [
    "# Matrix çıkarma fonksiyonu\n",
    "def matrixCıkarım(matrix1, matrix2): \n",
    "    if len(matrix1) != len(matrix2) or len(matrix1[0]) != len(matrix2[0]):\n",
    "        print(\"Matrix boyutları uyuşmadığından, matrixler arasında çıkarma işlemi yapılamaz\")\n",
    "    else:\n",
    "        farkMatriks = matrix1 - matrix2\n",
    "        print(\"Matriksler Farkı : \")\n",
    "        print(farkMatriks)"
   ]
  },
  {
   "cell_type": "code",
   "execution_count": 230,
   "id": "a9f8d62e-0df1-415a-8a9a-4add27302176",
   "metadata": {},
   "outputs": [],
   "source": [
    "# Matrix transpozunu alma fonksiyonu\n",
    "def matrixTranspozu(matrix1):\n",
    "    satir = len(matrix1)         \n",
    "    sutun = len(matrix1[0])   \n",
    "    \n",
    "    transpoz = [[0] * satir for _ in range(sutun)]\n",
    "    \n",
    "    for i in range(satir):\n",
    "        for j in range(sutun):\n",
    "            transpoz[j][i] = matrix1[i][j]\n",
    "    \n",
    "    print(\"Matrisin transpozu alınmış hali: \")\n",
    "    print(np.array(transpoz))"
   ]
  },
  {
   "cell_type": "code",
   "execution_count": 231,
   "id": "7086d8fe-63ec-473b-ad0e-e49aac782a60",
   "metadata": {},
   "outputs": [],
   "source": [
    "# Matrix çarpımı fonksiyonu\n",
    "def matrixCarpim(matrix1, matrix2):\n",
    "    if len(matrix1[0]) != len(matrix2):\n",
    "        print(\"Matrix çarpımı için uygun değillerdir\")\n",
    "    else:\n",
    "        carpim = [[0] * len(matrix2[0]) for _ in range(len(matrix1))]\n",
    "        for i in range(len(matrix1)):  # A'nın satırları\n",
    "            for j in range(len(matrix2[0])):  # B'nin sütunları\n",
    "                for k in range(len(matrix2)):  # A'nın sütunları ve B'nin satırları\n",
    "                    carpim[i][j] += matrix1[i][k] * matrix2[k][j]\n",
    "        \n",
    "        print(\"Matrixler çarpımı:\")\n",
    "        print(np.array(carpim))"
   ]
  },
  {
   "cell_type": "code",
   "execution_count": 232,
   "id": "d53ac290-bb58-4dc0-adcc-d80a72c258ae",
   "metadata": {},
   "outputs": [
    {
     "name": "stdout",
     "output_type": "stream",
     "text": [
      "Matriksler Toplamı : \n",
      "[[ 87  99 100 170 131  74]\n",
      " [117 123 140  91  75  50]\n",
      " [143  64 126 128 119 102]\n",
      " [ 61 158 127 140 109  91]\n",
      " [118  68 168 121 128 119]\n",
      " [181 144  84 165  68 154]]\n"
     ]
    }
   ],
   "source": [
    "# Fonksiyonları çağırma\n",
    "matrixToplam(matrix1, matrix2)  # Matrixlerin toplamını yazdır"
   ]
  },
  {
   "cell_type": "code",
   "execution_count": 233,
   "id": "c3044298-d259-498d-80c8-3a258a93eb58",
   "metadata": {},
   "outputs": [
    {
     "name": "stdout",
     "output_type": "stream",
     "text": [
      "1. Matrixin transpozu : \n",
      "Matrisin transpozu alınmış hali: \n",
      "[[35 41 53 16 62 85]\n",
      " [77 40 33 64 35 80]\n",
      " [11 82 88 38 96 11]\n",
      " [80 58 64 57 30 77]\n",
      " [94 23 69 83 60 27]\n",
      " [28 31 91 61 58 85]]\n"
     ]
    }
   ],
   "source": [
    "print(\"1. Matrixin transpozu : \")\n",
    "matrixTranspozu(matrix1)  # 1. Matrixin transpozunu yazdır"
   ]
  },
  {
   "cell_type": "code",
   "execution_count": 234,
   "id": "e5ee0b59-f432-436a-8560-57d3934c7b51",
   "metadata": {},
   "outputs": [
    {
     "name": "stdout",
     "output_type": "stream",
     "text": [
      "2. Matrixin transpozu : \n",
      "Matrisin transpozu alınmış hali: \n",
      "[[52 76 90 45 56 96]\n",
      " [22 83 31 94 33 64]\n",
      " [89 58 38 89 72 73]\n",
      " [90 33 64 83 91 88]\n",
      " [37 52 50 26 68 41]\n",
      " [46 19 11 30 61 69]]\n"
     ]
    }
   ],
   "source": [
    "print(\"2. Matrixin transpozu : \")\n",
    "matrixTranspozu(matrix2)  # 2. Matrixin transpozunu yazdır"
   ]
  },
  {
   "cell_type": "code",
   "execution_count": 237,
   "id": "cf75c503-463a-4ee1-9096-0bd475becd99",
   "metadata": {},
   "outputs": [
    {
     "name": "stdout",
     "output_type": "stream",
     "text": [
      "Matrixler çarpımı:\n",
      "[[20214 19916 23931 24053 15469 13260]\n",
      " [19426 14959 18166 19893 12040  8830]\n",
      " [28664 20750 27282 31090 18164 16441]\n",
      " [22185 18843 22082 23636 15447 13352]\n",
      " [24802 15757 22420 25933 16152 13135]\n",
      " [24627 22420 27625 27322 15178 15373]]\n"
     ]
    }
   ],
   "source": [
    "matrixCarpim(matrix1, matrix2)  # Matrixlerin çarpımını yazdır"
   ]
  },
  {
   "cell_type": "code",
   "execution_count": 238,
   "id": "a4617e25-7603-46ec-8bbe-7dfe3f821dff",
   "metadata": {},
   "outputs": [
    {
     "name": "stdout",
     "output_type": "stream",
     "text": [
      "Matriksler Farkı : \n",
      "[[-17  55 -78 -10  57 -18]\n",
      " [-35 -43  24  25 -29  12]\n",
      " [-37   2  50   0  19  80]\n",
      " [-29 -30 -51 -26  57  31]\n",
      " [  6   2  24 -61  -8  -3]\n",
      " [-11  16 -62 -11 -14  16]]\n"
     ]
    }
   ],
   "source": [
    "matrisCıkarım(matrix1,matrix2) "
   ]
  },
  {
   "cell_type": "code",
   "execution_count": null,
   "id": "e26a6f07-3213-41ba-85dc-f61599363173",
   "metadata": {},
   "outputs": [],
   "source": []
  }
 ],
 "metadata": {
  "kernelspec": {
   "display_name": "Python 3 (ipykernel)",
   "language": "python",
   "name": "python3"
  },
  "language_info": {
   "codemirror_mode": {
    "name": "ipython",
    "version": 3
   },
   "file_extension": ".py",
   "mimetype": "text/x-python",
   "name": "python",
   "nbconvert_exporter": "python",
   "pygments_lexer": "ipython3",
   "version": "3.12.7"
  }
 },
 "nbformat": 4,
 "nbformat_minor": 5
}
